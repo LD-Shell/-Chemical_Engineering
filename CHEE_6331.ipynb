{
  "cells": [
    {
      "cell_type": "markdown",
      "metadata": {
        "id": "view-in-github",
        "colab_type": "text"
      },
      "source": [
        "<a href=\"https://colab.research.google.com/github/LD-Shell/Chemical_Engineering/blob/main/CHEE_6331.ipynb\" target=\"_parent\"><img src=\"https://colab.research.google.com/assets/colab-badge.svg\" alt=\"Open In Colab\"/></a>"
      ]
    },
    {
      "cell_type": "code",
      "execution_count": null,
      "id": "84891c23-86ef-4220-8a89-5a0ec1432643",
      "metadata": {
        "id": "84891c23-86ef-4220-8a89-5a0ec1432643"
      },
      "outputs": [],
      "source": [
        "import numpy as np\n",
        "import pandas as pd\n",
        "import re"
      ]
    },
    {
      "cell_type": "markdown",
      "id": "5e37af9b-3b2a-4594-9999-cd4c53ab19bc",
      "metadata": {
        "id": "5e37af9b-3b2a-4594-9999-cd4c53ab19bc"
      },
      "source": [
        "### Row echelon form implementation"
      ]
    },
    {
      "cell_type": "code",
      "execution_count": null,
      "id": "ac25ff3e-c65d-423b-ad91-b4d36b692aeb",
      "metadata": {
        "id": "ac25ff3e-c65d-423b-ad91-b4d36b692aeb"
      },
      "outputs": [],
      "source": [
        "matrix_A = np.array([[-6,2, -2],\n",
        "            [2, -6, -2],\n",
        "            [-2,-2, -2],\n",
        "            ])"
      ]
    },
    {
      "cell_type": "code",
      "execution_count": null,
      "id": "8e68fcb4-5cc4-4942-beeb-65dc47527533",
      "metadata": {
        "colab": {
          "base_uri": "https://localhost:8080/"
        },
        "id": "8e68fcb4-5cc4-4942-beeb-65dc47527533",
        "outputId": "bc9cfc8e-c4e5-42b1-9b33-04de77baeed8"
      },
      "outputs": [
        {
          "output_type": "stream",
          "name": "stdout",
          "text": [
            "The Rank of a Matrix:  2\n"
          ]
        }
      ],
      "source": [
        "print(\"The Rank of a Matrix: \", np.linalg.matrix_rank(matrix_A))"
      ]
    },
    {
      "cell_type": "code",
      "execution_count": null,
      "id": "4726ad80-ea71-417d-9517-9bfc7df394e8",
      "metadata": {
        "id": "4726ad80-ea71-417d-9517-9bfc7df394e8"
      },
      "outputs": [],
      "source": [
        "def is_row_echelon_form(matrix: np.ndarray) -> bool:\n",
        "    \"\"\"Checks if a matrix is in row echelon form.\n",
        "\n",
        "    Args:\n",
        "        matrix: The input NumPy matrix.\n",
        "\n",
        "    Returns:\n",
        "        True if the matrix is in row echelon form, False otherwise.\n",
        "    \"\"\"\n",
        "\n",
        "    if not matrix.any():\n",
        "        return False\n",
        "\n",
        "    num_rows, num_cols = matrix.shape\n",
        "    prev_leading_col = -1\n",
        "\n",
        "    for row in range(num_rows):\n",
        "        leading_col_found = False\n",
        "        for col in range(num_cols):\n",
        "            if matrix[row, col] != 0:\n",
        "                if col <= prev_leading_col:\n",
        "                    return False\n",
        "                prev_leading_col = col\n",
        "                leading_col_found = True\n",
        "                break\n",
        "        if not leading_col_found and any(matrix[row, col] != 0 for col in range(num_cols)):\n",
        "            return False\n",
        "    return True\n",
        "\n",
        "def find_nonzero_row(matrix: np.ndarray, pivot_row: int, col: int) -> int | None:\n",
        "    \"\"\"Finds the first non-zero row below the pivot row in a column.\n",
        "\n",
        "    Args:\n",
        "        matrix: The input NumPy matrix.\n",
        "        pivot_row: The current pivot row.\n",
        "        col: The column to search.\n",
        "\n",
        "    Returns:\n",
        "        The index of the first non-zero row, or None if no such row exists.\n",
        "    \"\"\"\n",
        "\n",
        "    num_rows = matrix.shape[0]\n",
        "    for row in range(pivot_row, num_rows):\n",
        "        if matrix[row, col] != 0:\n",
        "            return row\n",
        "    return None\n",
        "\n",
        "def swap_rows(matrix: np.ndarray, row1: int, row2: int):\n",
        "    \"\"\"Swaps two rows of a NumPy matrix.\n",
        "\n",
        "    Args:\n",
        "        matrix: The input NumPy matrix.\n",
        "        row1: The index of the first row.\n",
        "        row2: The index of the second row.\n",
        "    \"\"\"\n",
        "\n",
        "    matrix[[row1, row2]] = matrix[[row2, row1]]\n",
        "\n",
        "def make_pivot_one(matrix: np.ndarray, pivot_row: int, col: int) -> bool:\n",
        "    \"\"\"Makes the pivot element in a row equal to 1.\n",
        "\n",
        "    Args:\n",
        "        matrix: The input NumPy matrix.\n",
        "        pivot_row: The row containing the pivot element.\n",
        "        col: The column containing the pivot element.\n",
        "\n",
        "    Returns:\n",
        "        True if the pivot element was successfully made 1, False if the pivot element is effectively zero.\n",
        "    \"\"\"\n",
        "\n",
        "    pivot_element = matrix[pivot_row, col]\n",
        "    if abs(pivot_element) < 1e-12:  # Adjust tolerance as needed\n",
        "        return False  # Pivot element is effectively zero\n",
        "    for j in range(col, matrix.shape[1]):\n",
        "        matrix[pivot_row, j] /= pivot_element\n",
        "    return True\n",
        "\n",
        "def eliminate_below(matrix: np.ndarray, pivot_row: int, col: int):\n",
        "    \"\"\"Eliminates elements below the pivot element in a column.\n",
        "\n",
        "    Args:\n",
        "        matrix: The input NumPy matrix.\n",
        "        pivot_row: The row containing the pivot element.\n",
        "        col: The column containing the pivot element.\n",
        "    \"\"\"\n",
        "\n",
        "    num_rows = matrix.shape[0]\n",
        "    pivot_element = matrix[pivot_row, col]\n",
        "    for row in range(pivot_row + 1, num_rows):\n",
        "        factor = matrix[row, col]\n",
        "        matrix[row] -= factor * matrix[pivot_row]\n",
        "\n",
        "def row_echelon_form(matrix: np.ndarray) -> np.ndarray:\n",
        "    \"\"\"Reduces a NumPy matrix to row echelon form.\n",
        "\n",
        "    Args:\n",
        "        matrix: The input NumPy matrix.\n",
        "\n",
        "    Returns:\n",
        "        The reduced row echelon form of the matrix.\n",
        "    \"\"\"\n",
        "\n",
        "    matrix = matrix.astype(np.float64)\n",
        "    num_rows, num_cols = matrix.shape\n",
        "    pivot_row = 0\n",
        "\n",
        "    for col in range(num_cols):\n",
        "        # Find the row with the largest absolute value in the current column\n",
        "        max_row = pivot_row\n",
        "        max_val = abs(matrix[pivot_row, col])\n",
        "        for row in range(pivot_row + 1, num_rows):\n",
        "            if abs(matrix[row, col]) > max_val:\n",
        "                max_row = row\n",
        "                max_val = abs(matrix[row, col])\n",
        "\n",
        "        # Swap rows if necessary\n",
        "        if max_row != pivot_row:\n",
        "            swap_rows(matrix, pivot_row, max_row)\n",
        "\n",
        "        # Make pivot element one\n",
        "        if not make_pivot_one(matrix, pivot_row, col):\n",
        "            continue  # Pivot element is effectively zero, move to next column\n",
        "\n",
        "        # Eliminate elements below the pivot\n",
        "        eliminate_below(matrix, pivot_row, col)\n",
        "        pivot_row += 1\n",
        "\n",
        "    return matrix"
      ]
    },
    {
      "cell_type": "code",
      "execution_count": null,
      "id": "3b3d2259-3d83-4660-a4e9-66a4067acb35",
      "metadata": {
        "colab": {
          "base_uri": "https://localhost:8080/"
        },
        "id": "3b3d2259-3d83-4660-a4e9-66a4067acb35",
        "outputId": "b8908edb-9e42-440b-9915-a770b9df321f"
      },
      "outputs": [
        {
          "output_type": "execute_result",
          "data": {
            "text/plain": [
              "False"
            ]
          },
          "metadata": {},
          "execution_count": 5
        }
      ],
      "source": [
        "is_row_echelon_form(matrix_A)"
      ]
    },
    {
      "cell_type": "code",
      "execution_count": null,
      "id": "f6bfd241-de56-4783-b938-9ba7745979a0",
      "metadata": {
        "colab": {
          "base_uri": "https://localhost:8080/"
        },
        "id": "f6bfd241-de56-4783-b938-9ba7745979a0",
        "outputId": "fb9936ef-dc61-4622-a805-61e8dfa3dd18"
      },
      "outputs": [
        {
          "output_type": "stream",
          "name": "stdout",
          "text": [
            "Matrix Before Converting:\n",
            "[[-6  2 -2]\n",
            " [ 2 -6 -2]\n",
            " [-2 -2 -2]]\n",
            "\n",
            "After Converting to Row Echelon Form:\n",
            "[[ 1.00000000e+00 -3.33333333e-01  3.33333333e-01]\n",
            " [ 0.00000000e+00  1.00000000e+00  5.00000000e-01]\n",
            " [ 0.00000000e+00  0.00000000e+00 -2.22044605e-16]]\n",
            "In REF\n"
          ]
        }
      ],
      "source": [
        "print(\"Matrix Before Converting:\")\n",
        "print(matrix_A)\n",
        "print()\n",
        "result = row_echelon_form(matrix_A)\n",
        "print(\"After Converting to Row Echelon Form:\")\n",
        "print(result)\n",
        "if is_row_echelon_form(result):\n",
        "    print(\"In REF\")\n",
        "else:\n",
        "    print(\"Not in REF--------------->\")"
      ]
    },
    {
      "cell_type": "markdown",
      "id": "A6vjxoNvyVTz",
      "metadata": {
        "id": "A6vjxoNvyVTz"
      },
      "source": [
        "### Application of vector expansion to stiochiometry"
      ]
    },
    {
      "cell_type": "markdown",
      "id": "NnYTktje0lwV",
      "metadata": {
        "id": "NnYTktje0lwV"
      },
      "source": [
        "#### _main function_"
      ]
    },
    {
      "cell_type": "code",
      "execution_count": null,
      "id": "eS-6o8nCyjDc",
      "metadata": {
        "id": "eS-6o8nCyjDc"
      },
      "outputs": [],
      "source": [
        "# Function to parse a chemical formula and count the atoms\n",
        "def count_atoms(formula):\n",
        "    # Regular expression to match elements and their quantities\n",
        "    matches = re.findall(r'([A-Z][a-z]?)(\\d*)', formula)\n",
        "\n",
        "    # Dictionary to store atom counts\n",
        "    atom_counts = {}\n",
        "\n",
        "    for element, count in matches:\n",
        "        if count == '':  # If no number is specified, it means 1 atom\n",
        "            count = 1\n",
        "        else:\n",
        "            count = int(count)\n",
        "\n",
        "        if element in atom_counts:\n",
        "            atom_counts[element] += count\n",
        "        else:\n",
        "            atom_counts[element] = count\n",
        "\n",
        "    return atom_counts\n",
        "\n",
        "# Function to generate a list of unique elements\n",
        "def get_unique_elements(formulas):\n",
        "    unique_elements = set()\n",
        "\n",
        "    for formula in formulas:\n",
        "        matches = re.findall(r'([A-Z][a-z]?)', formula)\n",
        "        unique_elements.update(matches)\n",
        "\n",
        "    return sorted(unique_elements)\n",
        "\n",
        "# Function to generate a dataframe from a list of formulas\n",
        "def generate_dataframe(formulas):\n",
        "    all_atom_counts = []\n",
        "\n",
        "    # List of all elements that may appear (extend this list as needed)\n",
        "    elements = get_unique_elements(formulas)\n",
        "\n",
        "    # Process each formula\n",
        "    for formula in formulas:\n",
        "        atom_counts = count_atoms(formula)\n",
        "        row = {element: atom_counts.get(element, 0) for element in elements}\n",
        "        all_atom_counts.append(row)\n",
        "\n",
        "    # Create a pandas dataframe\n",
        "    df = pd.DataFrame(all_atom_counts, index=formulas)\n",
        "\n",
        "    return df"
      ]
    },
    {
      "cell_type": "markdown",
      "id": "XGfi9Cpi0rKs",
      "metadata": {
        "id": "XGfi9Cpi0rKs"
      },
      "source": [
        "#### _Example usage:_"
      ]
    },
    {
      "cell_type": "code",
      "execution_count": null,
      "id": "i_pMaiTdzBNn",
      "metadata": {
        "id": "i_pMaiTdzBNn"
      },
      "outputs": [],
      "source": [
        "formulas = ('CH4', 'C2H6', 'H2O', 'H2', 'O2', 'CO', 'CO2', 'C2H4', 'C2H2')\n",
        "df = generate_dataframe(formulas)\n",
        "\n",
        "# Print the resulting dataframe\n",
        "print(df)"
      ]
    },
    {
      "cell_type": "code",
      "execution_count": null,
      "id": "eSunGife0MMa",
      "metadata": {
        "id": "eSunGife0MMa"
      },
      "outputs": [],
      "source": [
        "matrix = df.T.to_numpy()\n",
        "\n",
        "# Print the resulting numpy matrix\n",
        "print(matrix)\n",
        "print(\"The Rank of a Matrix: \", np.linalg.matrix_rank(matrix))"
      ]
    },
    {
      "cell_type": "markdown",
      "id": "SnXbcWJO1SoN",
      "metadata": {
        "id": "SnXbcWJO1SoN"
      },
      "source": [
        "#### _assignment implementatiion_"
      ]
    },
    {
      "cell_type": "code",
      "execution_count": null,
      "id": "trtnUW_Z1ajP",
      "metadata": {
        "id": "trtnUW_Z1ajP"
      },
      "outputs": [],
      "source": [
        "formulas_hw = ('NO', 'N2O', 'NO2', 'N2', 'NH3', 'H2O', 'H2', 'O2')\n",
        "df_hw = generate_dataframe(formulas_hw)\n",
        "\n",
        "# Print the resulting dataframe\n",
        "print(df_hw)\n",
        "\n",
        "matrix_hw = df_hw.T.to_numpy()\n",
        "\n",
        "# Print the resulting numpy matrix\n",
        "print(matrix_hw)\n",
        "print(\"The Rank of a Matrix: \", np.linalg.matrix_rank(matrix_hw))"
      ]
    }
  ],
  "metadata": {
    "colab": {
      "provenance": [],
      "include_colab_link": true
    },
    "kernelspec": {
      "display_name": "Python 3 (ipykernel)",
      "language": "python",
      "name": "python3"
    },
    "language_info": {
      "codemirror_mode": {
        "name": "ipython",
        "version": 3
      },
      "file_extension": ".py",
      "mimetype": "text/x-python",
      "name": "python",
      "nbconvert_exporter": "python",
      "pygments_lexer": "ipython3",
      "version": "3.11.7"
    }
  },
  "nbformat": 4,
  "nbformat_minor": 5
}