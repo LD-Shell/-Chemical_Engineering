{
 "cells": [
  {
   "cell_type": "markdown",
   "id": "11313348",
   "metadata": {
    "colab_type": "text",
    "id": "view-in-github"
   },
   "source": [
    "<a href=\"https://colab.research.google.com/github/LD-Shell/Chemical_Engineering/blob/main/vapour_pressure_estimation.ipynb\" target=\"_parent\"><img src=\"https://colab.research.google.com/assets/colab-badge.svg\" alt=\"Open In Colab\"/></a>"
   ]
  },
  {
   "cell_type": "markdown",
   "id": "f99eaaff-cca9-4b5b-8608-d408a25dc268",
   "metadata": {
    "id": "f99eaaff-cca9-4b5b-8608-d408a25dc268"
   },
   "source": [
    "# Problem Statement\n",
    "\n",
    "The vapor pressure of a single pure component can be computed using **Antoine's equation**, which is expressed as:\n",
    "\n",
    "$$\n",
    "\\log{p} = A - \\frac{B}{T - C}\n",
    "$$\n",
    "\n",
    "where:\n",
    "- \\( p \\) is the vapor pressure of the component (in mmHg),\n",
    "- \\( T \\) is the temperature (in °C),\n",
    "- \\( A, B, C \\) are component-specific constants obtained from experimental data.\n",
    "\n",
    "### Variables:\n",
    "- **\\( P \\)**: Vapor pressure of the component (mmHg)  \n",
    "- **\\( T \\)**: Temperature (°C)  \n",
    "- **\\( A, B, C \\)**: Component-specific constants  "
   ]
  },
  {
   "cell_type": "code",
   "execution_count": 1,
   "id": "501eaa23-18b2-4b53-97af-05ad6e4f908f",
   "metadata": {
    "id": "501eaa23-18b2-4b53-97af-05ad6e4f908f"
   },
   "outputs": [],
   "source": [
    "import os\n",
    "import pandas as pd\n",
    "import numpy as np\n",
    "# This displays all of the columns, preventing Juptyer from redacting them.\n",
    "pd.set_option('display.max_columns', None)"
   ]
  },
  {
   "cell_type": "code",
   "execution_count": 6,
   "id": "TAIJFrPKo1MJ",
   "metadata": {
    "colab": {
     "base_uri": "https://localhost:8080/"
    },
    "id": "TAIJFrPKo1MJ",
    "outputId": "1fcb13e1-d167-4147-8951-5f37c1d91da3"
   },
   "outputs": [
    {
     "name": "stdout",
     "output_type": "stream",
     "text": [
      "Mounted at /content/drive\n"
     ]
    }
   ],
   "source": [
    "from google.colab import drive\n",
    "drive.mount('/content/drive')  # Mount drive if not already done\n",
    "data_path = 'drive/My Drive/LD-Shell/SE-ALX/Python/Chemical Engineering/vapour_pressure_calculation'\n",
    "os.chdir(data_path)  # Change the working directory"
   ]
  },
  {
   "cell_type": "markdown",
   "id": "o_-MG75opck5",
   "metadata": {
    "id": "o_-MG75opck5"
   },
   "source": [
    "## Import the Antoine Coefficients Database"
   ]
  },
  {
   "cell_type": "code",
   "execution_count": 2,
   "id": "b08ea82f-cdf4-418c-9ca3-657440d93d33",
   "metadata": {
    "colab": {
     "base_uri": "https://localhost:8080/",
     "height": 206
    },
    "id": "b08ea82f-cdf4-418c-9ca3-657440d93d33",
    "outputId": "8ae3c362-ac8c-47e7-e649-7b2f0c4d2fb0"
   },
   "outputs": [
    {
     "data": {
      "text/html": [
       "<div>\n",
       "<style scoped>\n",
       "    .dataframe tbody tr th:only-of-type {\n",
       "        vertical-align: middle;\n",
       "    }\n",
       "\n",
       "    .dataframe tbody tr th {\n",
       "        vertical-align: top;\n",
       "    }\n",
       "\n",
       "    .dataframe thead th {\n",
       "        text-align: right;\n",
       "    }\n",
       "</style>\n",
       "<table border=\"1\" class=\"dataframe\">\n",
       "  <thead>\n",
       "    <tr style=\"text-align: right;\">\n",
       "      <th></th>\n",
       "      <th>Formula</th>\n",
       "      <th>Compound Name</th>\n",
       "      <th>A</th>\n",
       "      <th>B</th>\n",
       "      <th>C</th>\n",
       "      <th>TMIN</th>\n",
       "      <th>TMAX</th>\n",
       "    </tr>\n",
       "  </thead>\n",
       "  <tbody>\n",
       "    <tr>\n",
       "      <th>0</th>\n",
       "      <td>H2O</td>\n",
       "      <td>Water</td>\n",
       "      <td>8.07131</td>\n",
       "      <td>1730.630</td>\n",
       "      <td>233.426</td>\n",
       "      <td>1</td>\n",
       "      <td>100.0</td>\n",
       "    </tr>\n",
       "    <tr>\n",
       "      <th>1</th>\n",
       "      <td>H2O</td>\n",
       "      <td>Water</td>\n",
       "      <td>8.14019</td>\n",
       "      <td>1810.940</td>\n",
       "      <td>244.485</td>\n",
       "      <td>99</td>\n",
       "      <td>374.0</td>\n",
       "    </tr>\n",
       "    <tr>\n",
       "      <th>2</th>\n",
       "      <td>CCL4</td>\n",
       "      <td>carbon-tetrachloride</td>\n",
       "      <td>6.89410</td>\n",
       "      <td>1219.580</td>\n",
       "      <td>227.170</td>\n",
       "      <td>-20</td>\n",
       "      <td>101.0</td>\n",
       "    </tr>\n",
       "    <tr>\n",
       "      <th>3</th>\n",
       "      <td>CCL3F</td>\n",
       "      <td>trichlorofluoromethane</td>\n",
       "      <td>6.88430</td>\n",
       "      <td>1043.010</td>\n",
       "      <td>236.860</td>\n",
       "      <td>-33</td>\n",
       "      <td>27.0</td>\n",
       "    </tr>\n",
       "    <tr>\n",
       "      <th>4</th>\n",
       "      <td>CCL2F2</td>\n",
       "      <td>dichlorodifluoromethane</td>\n",
       "      <td>6.68619</td>\n",
       "      <td>782.072</td>\n",
       "      <td>235.377</td>\n",
       "      <td>-119</td>\n",
       "      <td>-30.0</td>\n",
       "    </tr>\n",
       "  </tbody>\n",
       "</table>\n",
       "</div>"
      ],
      "text/plain": [
       "  Formula            Compound Name        A         B        C  TMIN   TMAX\n",
       "0     H2O                    Water  8.07131  1730.630  233.426     1  100.0\n",
       "1     H2O                    Water  8.14019  1810.940  244.485    99  374.0\n",
       "2    CCL4     carbon-tetrachloride  6.89410  1219.580  227.170   -20  101.0\n",
       "3   CCL3F   trichlorofluoromethane  6.88430  1043.010  236.860   -33   27.0\n",
       "4  CCL2F2  dichlorodifluoromethane  6.68619   782.072  235.377  -119  -30.0"
      ]
     },
     "execution_count": 2,
     "metadata": {},
     "output_type": "execute_result"
    }
   ],
   "source": [
    "# Load the combined CSV file\n",
    "df_combined = pd.read_csv('Antoine_Coefficients.csv')\n",
    "df_combined.head(5)"
   ]
  },
  {
   "cell_type": "markdown",
   "id": "2FND5iFOpxks",
   "metadata": {
    "id": "2FND5iFOpxks"
   },
   "source": [
    "### Database preparation"
   ]
  },
  {
   "cell_type": "code",
   "execution_count": 3,
   "id": "476cdf20-a67b-4a0a-bac3-9ba6c522d8dc",
   "metadata": {
    "colab": {
     "base_uri": "https://localhost:8080/",
     "height": 206
    },
    "id": "476cdf20-a67b-4a0a-bac3-9ba6c522d8dc",
    "outputId": "8361ef0a-a259-4cc4-cee3-340edd60c7f6"
   },
   "outputs": [
    {
     "data": {
      "text/html": [
       "<div>\n",
       "<style scoped>\n",
       "    .dataframe tbody tr th:only-of-type {\n",
       "        vertical-align: middle;\n",
       "    }\n",
       "\n",
       "    .dataframe tbody tr th {\n",
       "        vertical-align: top;\n",
       "    }\n",
       "\n",
       "    .dataframe thead th {\n",
       "        text-align: right;\n",
       "    }\n",
       "</style>\n",
       "<table border=\"1\" class=\"dataframe\">\n",
       "  <thead>\n",
       "    <tr style=\"text-align: right;\">\n",
       "      <th></th>\n",
       "      <th>Formula</th>\n",
       "      <th>Compound Name</th>\n",
       "      <th>A</th>\n",
       "      <th>B</th>\n",
       "      <th>C</th>\n",
       "      <th>TMIN</th>\n",
       "      <th>TMAX</th>\n",
       "    </tr>\n",
       "  </thead>\n",
       "  <tbody>\n",
       "    <tr>\n",
       "      <th>694</th>\n",
       "      <td>C21H36</td>\n",
       "      <td>1-phenylpentadecane</td>\n",
       "      <td>7.114</td>\n",
       "      <td>2067.0</td>\n",
       "      <td>122.0</td>\n",
       "      <td>216</td>\n",
       "      <td>403.0</td>\n",
       "    </tr>\n",
       "    <tr>\n",
       "      <th>695</th>\n",
       "      <td>C21H42</td>\n",
       "      <td>1-cyclopentylhexadecane</td>\n",
       "      <td>7.103</td>\n",
       "      <td>2048.0</td>\n",
       "      <td>121.0</td>\n",
       "      <td>215</td>\n",
       "      <td>401.0</td>\n",
       "    </tr>\n",
       "    <tr>\n",
       "      <th>696</th>\n",
       "      <td>C21H42</td>\n",
       "      <td>1-cyclohexylpentadecane</td>\n",
       "      <td>7.072</td>\n",
       "      <td>2078.0</td>\n",
       "      <td>129.0</td>\n",
       "      <td>213</td>\n",
       "      <td>404.0</td>\n",
       "    </tr>\n",
       "    <tr>\n",
       "      <th>697</th>\n",
       "      <td>C22H38</td>\n",
       "      <td>1-phenylhexadecane</td>\n",
       "      <td>7.140</td>\n",
       "      <td>2095.0</td>\n",
       "      <td>114.0</td>\n",
       "      <td>227</td>\n",
       "      <td>415.0</td>\n",
       "    </tr>\n",
       "    <tr>\n",
       "      <th>698</th>\n",
       "      <td>C22H44</td>\n",
       "      <td>1-cyclohexylhexadecane</td>\n",
       "      <td>7.074</td>\n",
       "      <td>2099.0</td>\n",
       "      <td>122.0</td>\n",
       "      <td>224</td>\n",
       "      <td>416.0</td>\n",
       "    </tr>\n",
       "  </tbody>\n",
       "</table>\n",
       "</div>"
      ],
      "text/plain": [
       "    Formula            Compound Name      A       B      C  TMIN   TMAX\n",
       "694  C21H36      1-phenylpentadecane  7.114  2067.0  122.0   216  403.0\n",
       "695  C21H42  1-cyclopentylhexadecane  7.103  2048.0  121.0   215  401.0\n",
       "696  C21H42  1-cyclohexylpentadecane  7.072  2078.0  129.0   213  404.0\n",
       "697  C22H38       1-phenylhexadecane  7.140  2095.0  114.0   227  415.0\n",
       "698  C22H44   1-cyclohexylhexadecane  7.074  2099.0  122.0   224  416.0"
      ]
     },
     "execution_count": 3,
     "metadata": {},
     "output_type": "execute_result"
    }
   ],
   "source": [
    "df_combined.tail(5)"
   ]
  },
  {
   "cell_type": "code",
   "execution_count": 4,
   "id": "d3bd6852-84e4-40cf-93c6-9faf051a64d6",
   "metadata": {
    "colab": {
     "base_uri": "https://localhost:8080/",
     "height": 143
    },
    "id": "d3bd6852-84e4-40cf-93c6-9faf051a64d6",
    "outputId": "a4723da0-0ad0-4ab7-9bfb-ff8700080473"
   },
   "outputs": [
    {
     "data": {
      "text/html": [
       "<div>\n",
       "<style scoped>\n",
       "    .dataframe tbody tr th:only-of-type {\n",
       "        vertical-align: middle;\n",
       "    }\n",
       "\n",
       "    .dataframe tbody tr th {\n",
       "        vertical-align: top;\n",
       "    }\n",
       "\n",
       "    .dataframe thead th {\n",
       "        text-align: right;\n",
       "    }\n",
       "</style>\n",
       "<table border=\"1\" class=\"dataframe\">\n",
       "  <thead>\n",
       "    <tr style=\"text-align: right;\">\n",
       "      <th></th>\n",
       "      <th>formula</th>\n",
       "      <th>compound</th>\n",
       "      <th>A</th>\n",
       "      <th>B</th>\n",
       "      <th>C</th>\n",
       "      <th>tmin</th>\n",
       "      <th>tmax</th>\n",
       "    </tr>\n",
       "  </thead>\n",
       "  <tbody>\n",
       "    <tr>\n",
       "      <th>0</th>\n",
       "      <td>H2O</td>\n",
       "      <td>Water</td>\n",
       "      <td>8.07131</td>\n",
       "      <td>1730.63</td>\n",
       "      <td>233.426</td>\n",
       "      <td>1</td>\n",
       "      <td>100.0</td>\n",
       "    </tr>\n",
       "    <tr>\n",
       "      <th>1</th>\n",
       "      <td>H2O</td>\n",
       "      <td>Water</td>\n",
       "      <td>8.14019</td>\n",
       "      <td>1810.94</td>\n",
       "      <td>244.485</td>\n",
       "      <td>99</td>\n",
       "      <td>374.0</td>\n",
       "    </tr>\n",
       "    <tr>\n",
       "      <th>2</th>\n",
       "      <td>CCL4</td>\n",
       "      <td>carbon-tetrachloride</td>\n",
       "      <td>6.89410</td>\n",
       "      <td>1219.58</td>\n",
       "      <td>227.170</td>\n",
       "      <td>-20</td>\n",
       "      <td>101.0</td>\n",
       "    </tr>\n",
       "  </tbody>\n",
       "</table>\n",
       "</div>"
      ],
      "text/plain": [
       "  formula              compound        A        B        C  tmin   tmax\n",
       "0     H2O                 Water  8.07131  1730.63  233.426     1  100.0\n",
       "1     H2O                 Water  8.14019  1810.94  244.485    99  374.0\n",
       "2    CCL4  carbon-tetrachloride  6.89410  1219.58  227.170   -20  101.0"
      ]
     },
     "execution_count": 4,
     "metadata": {},
     "output_type": "execute_result"
    }
   ],
   "source": [
    "df_combined.rename(columns={\n",
    "    'Formula': 'formula',\n",
    "    'Compound Name': 'compound',\n",
    "    'TMIN': 'tmin',\n",
    "    'TMAX': 'tmax'}, inplace=True)\n",
    "df_combined.head(3)"
   ]
  },
  {
   "cell_type": "code",
   "execution_count": 5,
   "id": "5ceb1af7-95de-4f12-8f90-13b8325d52ea",
   "metadata": {
    "colab": {
     "base_uri": "https://localhost:8080/",
     "height": 206
    },
    "id": "5ceb1af7-95de-4f12-8f90-13b8325d52ea",
    "outputId": "6baebbe9-616e-4bd4-ff42-d9172ca916a7"
   },
   "outputs": [
    {
     "data": {
      "text/html": [
       "<div>\n",
       "<style scoped>\n",
       "    .dataframe tbody tr th:only-of-type {\n",
       "        vertical-align: middle;\n",
       "    }\n",
       "\n",
       "    .dataframe tbody tr th {\n",
       "        vertical-align: top;\n",
       "    }\n",
       "\n",
       "    .dataframe thead th {\n",
       "        text-align: right;\n",
       "    }\n",
       "</style>\n",
       "<table border=\"1\" class=\"dataframe\">\n",
       "  <thead>\n",
       "    <tr style=\"text-align: right;\">\n",
       "      <th></th>\n",
       "      <th>formula</th>\n",
       "      <th>compound</th>\n",
       "      <th>A</th>\n",
       "      <th>B</th>\n",
       "      <th>C</th>\n",
       "      <th>tmin</th>\n",
       "      <th>tmax</th>\n",
       "    </tr>\n",
       "  </thead>\n",
       "  <tbody>\n",
       "    <tr>\n",
       "      <th>694</th>\n",
       "      <td>C21H36</td>\n",
       "      <td>1-phenylpentadecane</td>\n",
       "      <td>7.114</td>\n",
       "      <td>2067.0</td>\n",
       "      <td>122.0</td>\n",
       "      <td>216</td>\n",
       "      <td>403.0</td>\n",
       "    </tr>\n",
       "    <tr>\n",
       "      <th>695</th>\n",
       "      <td>C21H42</td>\n",
       "      <td>1-cyclopentylhexadecane</td>\n",
       "      <td>7.103</td>\n",
       "      <td>2048.0</td>\n",
       "      <td>121.0</td>\n",
       "      <td>215</td>\n",
       "      <td>401.0</td>\n",
       "    </tr>\n",
       "    <tr>\n",
       "      <th>696</th>\n",
       "      <td>C21H42</td>\n",
       "      <td>1-cyclohexylpentadecane</td>\n",
       "      <td>7.072</td>\n",
       "      <td>2078.0</td>\n",
       "      <td>129.0</td>\n",
       "      <td>213</td>\n",
       "      <td>404.0</td>\n",
       "    </tr>\n",
       "    <tr>\n",
       "      <th>697</th>\n",
       "      <td>C22H38</td>\n",
       "      <td>1-phenylhexadecane</td>\n",
       "      <td>7.140</td>\n",
       "      <td>2095.0</td>\n",
       "      <td>114.0</td>\n",
       "      <td>227</td>\n",
       "      <td>415.0</td>\n",
       "    </tr>\n",
       "    <tr>\n",
       "      <th>698</th>\n",
       "      <td>C22H44</td>\n",
       "      <td>1-cyclohexylhexadecane</td>\n",
       "      <td>7.074</td>\n",
       "      <td>2099.0</td>\n",
       "      <td>122.0</td>\n",
       "      <td>224</td>\n",
       "      <td>416.0</td>\n",
       "    </tr>\n",
       "  </tbody>\n",
       "</table>\n",
       "</div>"
      ],
      "text/plain": [
       "    formula                 compound      A       B      C  tmin   tmax\n",
       "694  C21H36      1-phenylpentadecane  7.114  2067.0  122.0   216  403.0\n",
       "695  C21H42  1-cyclopentylhexadecane  7.103  2048.0  121.0   215  401.0\n",
       "696  C21H42  1-cyclohexylpentadecane  7.072  2078.0  129.0   213  404.0\n",
       "697  C22H38       1-phenylhexadecane  7.140  2095.0  114.0   227  415.0\n",
       "698  C22H44   1-cyclohexylhexadecane  7.074  2099.0  122.0   224  416.0"
      ]
     },
     "execution_count": 5,
     "metadata": {},
     "output_type": "execute_result"
    }
   ],
   "source": [
    "df_exact= df_combined.iloc[:699, :7]\n",
    "df_exact.tail()"
   ]
  },
  {
   "cell_type": "code",
   "execution_count": 6,
   "id": "b216f504-2317-4900-b8cc-c8a169002f72",
   "metadata": {
    "colab": {
     "base_uri": "https://localhost:8080/"
    },
    "id": "b216f504-2317-4900-b8cc-c8a169002f72",
    "outputId": "9037806e-c84d-4c51-8b9f-cd59eaa2c19d"
   },
   "outputs": [
    {
     "name": "stdout",
     "output_type": "stream",
     "text": [
      "<class 'pandas.core.frame.DataFrame'>\n",
      "RangeIndex: 699 entries, 0 to 698\n",
      "Data columns (total 7 columns):\n",
      " #   Column    Non-Null Count  Dtype  \n",
      "---  ------    --------------  -----  \n",
      " 0   formula   699 non-null    object \n",
      " 1   compound  699 non-null    object \n",
      " 2   A         699 non-null    float64\n",
      " 3   B         699 non-null    float64\n",
      " 4   C         699 non-null    float64\n",
      " 5   tmin      699 non-null    int64  \n",
      " 6   tmax      699 non-null    float64\n",
      "dtypes: float64(4), int64(1), object(2)\n",
      "memory usage: 38.4+ KB\n"
     ]
    }
   ],
   "source": [
    "df_exact.info()"
   ]
  },
  {
   "cell_type": "code",
   "execution_count": 7,
   "id": "2cabd4c0-ea4a-4935-9668-3668c5b000cf",
   "metadata": {
    "colab": {
     "base_uri": "https://localhost:8080/",
     "height": 490
    },
    "id": "2cabd4c0-ea4a-4935-9668-3668c5b000cf",
    "outputId": "77ef15d8-c0e1-4da7-ffb6-4404f86548d9"
   },
   "outputs": [
    {
     "data": {
      "text/plain": [
       "formula  compound                    A        B         C        tmin  tmax \n",
       "H2O      Water                       8.14019  1810.940  244.485  99    374.0    1\n",
       "C10H14   1,2,3,4-tetramethylbenzene  7.05940  1690.540  199.480  80    236.0    1\n",
       "         1,2,3,5-tetramethylbenzene  7.07790  1675.430  201.140  75    228.0    1\n",
       "         1,2,4,5-tetramethylbenzene  7.08000  1672.430  201.430  74    227.0    1\n",
       "         butylbenzene                6.98317  1577.965  201.378  62    213.0    1\n",
       "                                                                               ..\n",
       "C10H22   2,2,3,4-tetramethylhexane   6.82410  1443.600  207.300  41    188.0    1\n",
       "         2,2,3,3-tetramethylhexane   6.84438  1464.030  209.060  41    190.0    1\n",
       "C10H20O  decanal                     8.20794  2378.316  237.905  52    209.0    1\n",
       "C10H20   butylcyclohexane            6.91030  1538.518  200.833  59    211.0    1\n",
       "         1-decene                    6.96034  1501.872  197.578  54    199.0    1\n",
       "Name: count, Length: 699, dtype: int64"
      ]
     },
     "execution_count": 7,
     "metadata": {},
     "output_type": "execute_result"
    }
   ],
   "source": [
    "df_exact.value_counts()"
   ]
  },
  {
   "cell_type": "markdown",
   "id": "uSbsFzBFp642",
   "metadata": {
    "id": "uSbsFzBFp642"
   },
   "source": [
    "# Implement vapour pressure calculation based on user input"
   ]
  },
  {
   "cell_type": "code",
   "execution_count": 8,
   "id": "029f334b-33c4-4a3e-b4a9-fa281c04def2",
   "metadata": {
    "colab": {
     "base_uri": "https://localhost:8080/"
    },
    "id": "029f334b-33c4-4a3e-b4a9-fa281c04def2",
    "outputId": "d209c01c-b46b-4f91-8a86-eb3135c86824"
   },
   "outputs": [
    {
     "name": "stdin",
     "output_type": "stream",
     "text": [
      "Enter the formula:  H2O\n",
      "Enter the temperature (Celsius):  183\n"
     ]
    },
    {
     "name": "stdout",
     "output_type": "stream",
     "text": [
      "  formula        A        B        C  temperature (°C)  vapour_pressure (mmHg)\n",
      "0     H2O  8.14019  1810.94  244.485             183.0             8015.385231\n"
     ]
    }
   ],
   "source": [
    "def calculate_vapour_pressure(df_exact, formula, temperature):\n",
    "    \"\"\"\n",
    "    Calculates the vapour pressure using the Antoine equation.\n",
    "\n",
    "    Args:\n",
    "        df_exact: DataFrame containing the Antoine coefficients (A, B, C) for each formula.\n",
    "        formula: Chemical formula of the compound.\n",
    "        temperature: Temperature in Celsius.\n",
    "\n",
    "    Returns:\n",
    "        DataFrame containing the calculated vapour pressure, and the Antoine coefficients used.\n",
    "    \"\"\"\n",
    "\n",
    "    # Check if the formula exists in the DataFrame\n",
    "    if formula not in df_exact['formula'].values:\n",
    "        raise ValueError(f\"Formula '{formula}' not found in the Database, kindly suggest to the devs.\")\n",
    "\n",
    "    # Extract Antoine coefficients for the given formula and temperature range\n",
    "    row = df_exact[(df_exact['formula'] == formula) &\n",
    "                   (df_exact['tmin'] <= temperature) &\n",
    "                   (df_exact['tmax'] >= temperature)]\n",
    "\n",
    "    # Check if there is exactly one row matching the formula and temperature range\n",
    "    if len(row) != 1:\n",
    "        raise ValueError(f\"No valid data found for formula '{formula}' at temperature {temperature} °C.\")\n",
    "\n",
    "    A = row['A'].values[0]\n",
    "    B = row['B'].values[0]\n",
    "    C = row['C'].values[0]\n",
    "    tmin = row['tmin'].values[0]\n",
    "    tmax = row['tmax'].values[0]\n",
    "\n",
    "    # Calculate vapour pressure using Antoine equation\n",
    "    vapour_pressure = 10 ** (A - B / (temperature + C))\n",
    "\n",
    "    # Create a DataFrame to store the results\n",
    "    results_df = pd.DataFrame({\n",
    "        'formula': [formula],\n",
    "        'A': [A],\n",
    "        'B': [B],\n",
    "        'C': [C],\n",
    "        'temperature (°C)': [temperature],\n",
    "        'vapour_pressure (mmHg)': [vapour_pressure]\n",
    "    })\n",
    "\n",
    "    return results_df\n",
    "\n",
    "formula = input(\"Enter the formula: \")\n",
    "temperature = float(input(\"Enter the temperature (Celsius): \"))\n",
    "\n",
    "try:\n",
    "    results = calculate_vapour_pressure(df_exact, formula, temperature)\n",
    "    print(results)\n",
    "except ValueError as e:\n",
    "    print(e)"
   ]
  },
  {
   "cell_type": "code",
   "execution_count": null,
   "id": "f0dad7ed-8ddc-4dc4-a4b6-fbc2786d9123",
   "metadata": {},
   "outputs": [],
   "source": []
  }
 ],
 "metadata": {
  "colab": {
   "include_colab_link": true,
   "provenance": []
  },
  "kernelspec": {
   "display_name": "Python 3 (ipykernel)",
   "language": "python",
   "name": "python3"
  },
  "language_info": {
   "codemirror_mode": {
    "name": "ipython",
    "version": 3
   },
   "file_extension": ".py",
   "mimetype": "text/x-python",
   "name": "python",
   "nbconvert_exporter": "python",
   "pygments_lexer": "ipython3",
   "version": "3.12.3"
  }
 },
 "nbformat": 4,
 "nbformat_minor": 5
}
