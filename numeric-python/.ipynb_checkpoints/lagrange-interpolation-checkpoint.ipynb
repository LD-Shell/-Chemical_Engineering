{
 "cells": [
  {
   "cell_type": "code",
   "execution_count": 1,
   "id": "9900ada9-70eb-4ed0-8722-7cb40c4a1f23",
   "metadata": {},
   "outputs": [
    {
     "ename": "ModuleNotFoundError",
     "evalue": "No module named 'numpy'",
     "output_type": "error",
     "traceback": [
      "\u001b[0;31m---------------------------------------------------------------------------\u001b[0m",
      "\u001b[0;31mModuleNotFoundError\u001b[0m                       Traceback (most recent call last)",
      "Cell \u001b[0;32mIn[1], line 1\u001b[0m\n\u001b[0;32m----> 1\u001b[0m \u001b[38;5;28;01mimport\u001b[39;00m\u001b[38;5;250m \u001b[39m\u001b[38;5;21;01mnumpy\u001b[39;00m\u001b[38;5;250m \u001b[39m\u001b[38;5;28;01mas\u001b[39;00m\u001b[38;5;250m \u001b[39m\u001b[38;5;21;01mnp\u001b[39;00m\n\u001b[1;32m      2\u001b[0m \u001b[38;5;28;01mfrom\u001b[39;00m\u001b[38;5;250m \u001b[39m\u001b[38;5;21;01mscipy\u001b[39;00m\u001b[38;5;21;01m.\u001b[39;00m\u001b[38;5;21;01mspecial\u001b[39;00m\u001b[38;5;250m \u001b[39m\u001b[38;5;28;01mimport\u001b[39;00m erf\n",
      "\u001b[0;31mModuleNotFoundError\u001b[0m: No module named 'numpy'"
     ]
    }
   ],
   "source": [
    "import numpy as np\n",
    "from scipy.special import erf"
   ]
  },
  {
   "cell_type": "code",
   "execution_count": null,
   "id": "f7d72a94-57b6-49bc-9177-0a1756f13500",
   "metadata": {},
   "outputs": [],
   "source": [
    "def lagrange_basis(x_points, j, x):\n",
    "    \"\"\"\n",
    "    Compute the Lagrange basis polynomial l_j(x).\n",
    "\n",
    "    Parameters:\n",
    "    x_points (list or array): Known data points (x-coordinates).\n",
    "    j (int): Index of the current basis polynomial.\n",
    "    x (float or array): The value(s) where the basis polynomial is evaluated.\n",
    "\n",
    "    Returns:\n",
    "    float or array: The value of l_j(x).\n",
    "    \"\"\"\n",
    "    l_j = 1.0\n",
    "    for k in range(len(x_points)):\n",
    "        if k != j:\n",
    "            l_j *= (x - x_points[k]) / (x_points[j] - x_points[k])\n",
    "    return l_j"
   ]
  },
  {
   "cell_type": "code",
   "execution_count": null,
   "id": "146077e1-5a7d-432d-bd24-5569fa709914",
   "metadata": {},
   "outputs": [],
   "source": [
    "def lagrange_interpolation(x_points, y_points, x):\n",
    "    \"\"\"\n",
    "    Perform Lagrange interpolation to find p_n(x).\n",
    "\n",
    "    Parameters:\n",
    "    x_points (list or array): Known data points (x-coordinates).\n",
    "    y_points (list or array): Known data points (y-coordinates).\n",
    "    x (float or array): The value(s) where the interpolated polynomial is evaluated.\n",
    "\n",
    "    Returns:\n",
    "    float or array: The interpolated value(s) at x.\n",
    "    \"\"\"\n",
    "    n = len(x_points)  # Number of data points\n",
    "    p_n = 0.0  # Initialize the polynomial value to 0\n",
    "\n",
    "    for j in range(n):\n",
    "        p_n += y_points[j] * lagrange_basis(x_points, j, x)\n",
    "    \n",
    "    return p_n"
   ]
  },
  {
   "cell_type": "code",
   "execution_count": null,
   "id": "d4bb139c-064c-43fe-aaed-c433ed3e6d8b",
   "metadata": {},
   "outputs": [],
   "source": [
    "def interpolation_error(f_derivative, x_points, x, order=2):\n",
    "    \"\"\"\n",
    "    Compute the interpolation error bound for Lagrange interpolation.\n",
    "\n",
    "    Parameters:\n",
    "    f_derivative (function): The (n+1)-th derivative of the actual function.\n",
    "    x_points (list or array): Known data points (x-coordinates).\n",
    "    x (float or array): The value(s) where the error is evaluated.\n",
    "    order (int): The order of interpolation (n).\n",
    "\n",
    "    Returns:\n",
    "    float or array: The error bound at x.\n",
    "    \"\"\"\n",
    "    n = len(x_points) - 1  # Degree of the polynomial\n",
    "    \n",
    "    # Compute the product term (t - t_0)(t - t_1)...(t - t_n)\n",
    "    product_term = 1.0\n",
    "    for t in x_points:\n",
    "        product_term *= (x - t)\n",
    "\n",
    "    # Compute the maximum value of the (n+1)-th derivative\n",
    "    max_derivative = max([f_derivative(t) for t in np.linspace(min(x_points), max(x_points), 100)])\n",
    "\n",
    "    # Compute the error\n",
    "    error = abs(product_term * max_derivative) / np.math.factorial(order + 1)\n",
    "    \n",
    "    return error"
   ]
  },
  {
   "cell_type": "code",
   "execution_count": null,
   "id": "2021990e-4203-4d32-b938-342ecef32fde",
   "metadata": {},
   "outputs": [],
   "source": [
    "def error_function_approximation(x):\n",
    "    \"\"\"\n",
    "    Compute the error function (erf) and its derivatives for analysis.\n",
    "\n",
    "    Parameters:\n",
    "    x (float or array): Input value(s).\n",
    "\n",
    "    Returns:\n",
    "    tuple: erf(x), first derivative, and second derivative.\n",
    "    \"\"\"\n",
    "    erf_value = erf(x)\n",
    "    first_derivative = (2 / np.sqrt(np.pi)) * np.exp(-x**2)\n",
    "    second_derivative = -2 * x * (2 / np.sqrt(np.pi)) * np.exp(-x**2)\n",
    "    return erf_value, first_derivative, second_derivative"
   ]
  },
  {
   "cell_type": "code",
   "execution_count": null,
   "id": "b5d34a1b-5931-4952-b763-f1590995a5fd",
   "metadata": {},
   "outputs": [],
   "source": [
    "# Example Usage:\n",
    "if __name__ == \"__main__\":\n",
    "    # Example data points\n",
    "    x_points = [0, 0.5, 1.0]\n",
    "    y_points = [erf(x) for x in x_points]\n",
    "\n",
    "    # Interpolated value at a given x\n",
    "    x = 0.25\n",
    "    interpolated_value = lagrange_interpolation(x_points, y_points, x)\n",
    "    print(f\"Interpolated value at x = {x}: {interpolated_value}\")\n",
    "\n",
    "    # Define the (n+1)-th derivative of erf for error computation\n",
    "    def second_derivative_erf(t):\n",
    "        _, _, second_derivative = error_function_approximation(t)\n",
    "        return second_derivative\n",
    "\n",
    "    # Compute the error bound for linear interpolation (n=1)\n",
    "    error_bound = interpolation_error(second_derivative_erf, x_points, x, order=1)\n",
    "    print(f\"Error bound at x = {x}: {error_bound}\")\n",
    "\n",
    "    # Example for error function analysis\n",
    "    x_value = 1.0\n",
    "    erf_val, first_deriv, second_deriv = error_function_approximation(x_value)\n",
    "    print(f\"erf({x_value}) = {erf_val}\")\n",
    "    print(f\"First derivative at x = {x_value}: {first_deriv}\")\n",
    "    print(f\"Second derivative at x = {x_value}: {second_deriv}\")"
   ]
  }
 ],
 "metadata": {
  "kernelspec": {
   "display_name": "Python 3 (ipykernel)",
   "language": "python",
   "name": "python3"
  },
  "language_info": {
   "codemirror_mode": {
    "name": "ipython",
    "version": 3
   },
   "file_extension": ".py",
   "mimetype": "text/x-python",
   "name": "python",
   "nbconvert_exporter": "python",
   "pygments_lexer": "ipython3",
   "version": "3.12.3"
  }
 },
 "nbformat": 4,
 "nbformat_minor": 5
}
